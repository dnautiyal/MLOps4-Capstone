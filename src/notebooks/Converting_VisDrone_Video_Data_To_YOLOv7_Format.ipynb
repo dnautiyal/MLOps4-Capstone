{
  "cells": [
    {
      "cell_type": "markdown",
      "metadata": {
        "id": "gwP0etGAUsw6"
      },
      "source": [
        "## Step-1: Mount Google Drive"
      ]
    },
    {
      "cell_type": "code",
      "execution_count": null,
      "metadata": {
        "colab": {
          "base_uri": "https://localhost:8080/"
        },
        "id": "poc3oJ1uUac_",
        "outputId": "2c953d9f-3861-456b-9055-6f291c97ebd2"
      },
      "outputs": [
        {
          "name": "stdout",
          "output_type": "stream",
          "text": [
            "Mounted at /content/drive\n"
          ]
        }
      ],
      "source": [
        "from google.colab import drive\n",
        "drive.mount('/content/drive')"
      ]
    },
    {
      "cell_type": "markdown",
      "metadata": {
        "id": "EiGmihcNVPCA"
      },
      "source": [
        "## Step-2: Download VisDrone Video dataset from Google Drive"
      ]
    },
    {
      "cell_type": "code",
      "execution_count": null,
      "metadata": {
        "colab": {
          "base_uri": "https://localhost:8080/"
        },
        "id": "LvSiCdjPU6I-",
        "outputId": "d4e0aa75-9525-47f1-9bd4-40cdc7774493"
      },
      "outputs": [
        {
          "name": "stderr",
          "output_type": "stream",
          "text": [
            "IOPub data rate exceeded.\n",
            "The notebook server will temporarily stop sending output\n",
            "to the client in order to avoid crashing it.\n",
            "To change this limit, set the config variable\n",
            "`--NotebookApp.iopub_data_rate_limit`.\n",
            "\n",
            "Current values:\n",
            "NotebookApp.iopub_data_rate_limit=1000000.0 (bytes/sec)\n",
            "NotebookApp.rate_limit_window=3.0 (secs)\n",
            "\n"
          ]
        },
        {
          "name": "stdout",
          "output_type": "stream",
          "text": [
            "CPU times: user 3.39 s, sys: 727 ms, total: 4.12 s\n",
            "Wall time: 2min 46s\n"
          ]
        }
      ],
      "source": [
        "%%time\n",
        "%%bash\n",
        "if [ -d VisDroneVideo ]\n",
        "then\n",
        "  echo \"data already exists\"\n",
        "else \n",
        "  mkdir -p VisDroneVideo\n",
        "  unzip -d VisDroneVideo drive/MyDrive/Deepak/FourthBrain/MLOps_Course/CapstoneProject/TrainYOLOv7/data/video_data/VisDrone2019-VID-val.zip\n",
        "  unzip -d VisDroneVideo drive/MyDrive/Deepak/FourthBrain/MLOps_Course/CapstoneProject/TrainYOLOv7/data/video_data/VisDrone2019-VID-test-dev.zip\n",
        "  unzip -d VisDroneVideo drive/MyDrive/Deepak/FourthBrain/MLOps_Course/CapstoneProject/TrainYOLOv7/data/video_data/VisDrone2019-VID-train.zip\n",
        "  # unzip -d VisDroneVideo drive/MyDrive/Deepak/FourthBrain/MLOps_Course/CapstoneProject/TrainYOLOv7/data/video_data/VisDrone2019-VID-test-challenge.zip\n",
        "fi"
      ]
    },
    {
      "cell_type": "markdown",
      "metadata": {
        "id": "ef9Vlh9oZnsB"
      },
      "source": [
        "## Step-3: Convert to Visdrone-Video-YOLO format\n",
        "\n"
      ]
    },
    {
      "cell_type": "code",
      "execution_count": null,
      "metadata": {
        "id": "tepMuc3b9TPb"
      },
      "outputs": [],
      "source": [
        "import os\n",
        "from pathlib import Path\n",
        "import shutil\n",
        "import cv2\n",
        "import csv\n",
        "def _visdrone_video_to_yolov7_image_files(data_folder_dir, yolov7_output_folder_dir, new_image_size):\n",
        "    \"\"\"\n",
        "    Converts visdrone-det annotations into coco annotation.\n",
        "    Args:\n",
        "        data_folder_dir: str\n",
        "            'VisDrone2019-VID-train' folder directory\n",
        "        yolov7_output_folder_dir: str\n",
        "            Output folder path for yolov7 converted data\n",
        "    \"\"\"\n",
        "    # init paths/folders    \n",
        "    input_ann_folder = str(Path(data_folder_dir) / \"annotations\")\n",
        "    print(input_ann_folder)\n",
        "    annotation_filepath_list = os.listdir(input_ann_folder)\n",
        "    output_image_folder = str(Path(yolov7_output_folder_dir)/\"images\")\n",
        "    Path(output_image_folder).mkdir(parents=True, exist_ok=True)\n",
        "    image_size_dict = {}\n",
        "    for annotation_filename in annotation_filepath_list:\n",
        "      # print(annotation_filename)\n",
        "      image_filepath_dir = os.path.splitext(str(Path(data_folder_dir) / \"sequences\"/annotation_filename))[0]\n",
        "      image_filepath_list = os.listdir(image_filepath_dir)\n",
        "      i = 0\n",
        "      for image_name in image_filepath_list:\n",
        "        yolov7_image_name = os.path.splitext(annotation_filename)[0] + \"_\" + image_name\n",
        "        img_path = str(Path(image_filepath_dir)/image_name)\n",
        "        img = cv2.imread(img_path)\n",
        "        image_size_dict[annotation_filename] = img.shape\n",
        "        resized_image = cv2.resize(img, new_image_size)\n",
        "        resized_image_path = str(Path(output_image_folder)/yolov7_image_name)        \n",
        "        try:\n",
        "          cv2.imwrite(resized_image_path, resized_image)\n",
        "        except:\n",
        "          print(\"cannot write to: \" + resized_image_path)\n",
        "      \n",
        "    return image_size_dict"
      ]
    },
    {
      "cell_type": "code",
      "execution_count": null,
      "metadata": {
        "id": "d1JkFL6FwIpO"
      },
      "outputs": [],
      "source": [
        "def _convert_visidrone_video_row_to_yolov7_row(size, box):\n",
        "    dw = 1./size[0]\n",
        "    dh = 1./size[1]\n",
        "    x = int(box[2]) + int(box[4])/2.0\n",
        "    y = int(box[3]) + int(box[5])/2.0\n",
        "    w = int(box[4])\n",
        "    h = int(box[5])    \n",
        "    return (box[7], x*dw,y*dh,w*dw,h*dh)"
      ]
    },
    {
      "cell_type": "code",
      "execution_count": null,
      "metadata": {},
      "outputs": [],
      "source": [
        "  \n",
        "def _adjust_visidrone_video_row_for_image_resize(originalImageSize, newImageSize, box):\n",
        "    oi_w = originalImageSize[1]\n",
        "    oi_h = originalImageSize[0]\n",
        "    ni_w = newImageSize[0]\n",
        "    ni_h = newImageSize[1]\n",
        "    # print(str(originalImageSize) + \" ==> \" + str(newImageSize))\n",
        "    new_box = box.copy()\n",
        "    new_box[2] = str(round(int(box[2])*(ni_w*1./oi_w)))\n",
        "    new_box[3] = str(round(int(box[3])*(ni_h*1./oi_h)))\n",
        "    new_box[4] = str(round(int(box[4])*(ni_w*1./oi_w)))\n",
        "    new_box[5] = str(round(int(box[5])*(ni_h*1./oi_h)))\n",
        "    # print(\"==========================\")\n",
        "    # print(\"new_box ==> \" + str(new_box) + \"; old_box ==> \" + str(box))\n",
        "    return new_box"
      ]
    },
    {
      "cell_type": "code",
      "execution_count": null,
      "metadata": {
        "id": "JVcgWhYdUWec"
      },
      "outputs": [],
      "source": [
        "def _visdrone_video_to_yolov7_annotation_files(data_folder_dir, yolov7_output_folder_dir, new_image_size, image_size_dict):\n",
        "    \"\"\"\n",
        "    Converts visdrone-det annotations into coco annotation.\n",
        "    Args:\n",
        "        data_folder_dir: str\n",
        "            'VisDrone2019-VID-train' folder directory\n",
        "        yolov7_output_folder_dir: str\n",
        "            Output folder path for yolov7 converted data\n",
        "        image_size_dict: dict\n",
        "            contains the image_size info for various videos\n",
        "    \"\"\"\n",
        "    # init paths/folders    \n",
        "    input_ann_folder = str(Path(data_folder_dir) / \"annotations\")\n",
        "    print(input_ann_folder)\n",
        "    annotation_filepath_list = os.listdir(input_ann_folder)\n",
        "    output_annotations_folder = str(Path(yolov7_output_folder_dir)/\"labels\")\n",
        "    Path(output_annotations_folder).mkdir(parents=True, exist_ok=True)\n",
        "    annotation_dict = {}\n",
        "    for annotation_filename in annotation_filepath_list:\n",
        "      image_size = image_size_dict[annotation_filename]\n",
        "      print(\"image size for (h,w,c) \" + annotation_filename + \" ==> \" + str(image_size))\n",
        "      with open(Path(input_ann_folder)/annotation_filename) as file_obj:\n",
        "        reader_obj = csv.reader(file_obj)\n",
        "        i = 0\n",
        "        for row in reader_obj:          \n",
        "          yolov7_annotation_file_name = os.path.splitext(annotation_filename)[0] + \"_\" + str(row[0]).zfill(7) + \".txt\"\n",
        "          resized_row  =  _adjust_visidrone_video_row_for_image_resize(image_size, new_image_size, row) \n",
        "          yolov7_row = _convert_visidrone_video_row_to_yolov7_row(new_image_size, resized_row)\n",
        "          # if i == 0:\n",
        "            # print(annotation_filename + \"==>\" + str(row))          \n",
        "            # print(yolov7_annotation_file_name + \"==>\" + str(yolov7_row))\n",
        "          if yolov7_annotation_file_name not in annotation_dict:\n",
        "            annotation_dict[yolov7_annotation_file_name] = []\n",
        "          annotation_dict[yolov7_annotation_file_name].append(yolov7_row)\n",
        "          i += 1\n",
        "    for k, v in annotation_dict.items():\n",
        "      with open(str(Path(output_annotations_folder)/k), \"w\", newline=\"\") as f:\n",
        "        for row in v:\n",
        "          f.write(' '.join(str(item) for item in row)+'\\n')"
      ]
    },
    {
      "cell_type": "code",
      "execution_count": null,
      "metadata": {
        "id": "Ck14lg8IT2GL"
      },
      "outputs": [],
      "source": [
        "#! rm -r /content/VisDroneVideo"
      ]
    },
    {
      "cell_type": "code",
      "execution_count": null,
      "metadata": {
        "id": "fm43-FbO9S7u"
      },
      "outputs": [],
      "source": [
        "#! rm -r /content/VisDroneVideo/VisDrone2019-VID-val-yolov7"
      ]
    },
    {
      "cell_type": "code",
      "execution_count": null,
      "metadata": {
        "id": "47TO3ezZ6fFb"
      },
      "outputs": [],
      "source": [
        "def _convert_visdrone_data_to_yolov7_format(data_folder_dir, yolov7_output_folder_dir, _new_image_size):\n",
        "  \"\"\"\n",
        "    Converts visdrone-VID annotations into yolov7 annotation.\n",
        "    Args:\n",
        "        data_folder_dir: str\n",
        "            'VisDrone2019-VID-train' folder directory\n",
        "        yolov7_output_folder_dir: str\n",
        "            Output folder path for yolov7 converted data\n",
        "  \"\"\"\n",
        "  image_size_dictionary = _visdrone_video_to_yolov7_image_files(data_folder_dir, yolov7_output_folder_dir, _new_image_size)\n",
        "  print(image_size_dictionary)\n",
        "  _visdrone_video_to_yolov7_annotation_files(data_folder_dir, yolov7_output_folder_dir, _new_image_size, image_size_dictionary)"
      ]
    },
    {
      "cell_type": "code",
      "execution_count": null,
      "metadata": {},
      "outputs": [],
      "source": [
        "! rm -r /content/VisDroneVideo/VisDrone2019-VID-YOLOv7"
      ]
    },
    {
      "cell_type": "code",
      "execution_count": null,
      "metadata": {
        "id": "N9_rafkF_vJE"
      },
      "outputs": [],
      "source": [
        "def create_visdrone_video_data_in_yolov7_format(new_image_size = (960, 540)):\n",
        "  \n",
        "  _convert_visdrone_data_to_yolov7_format('/content/VisDroneVideo/VisDrone2019-VID-train', '/content/VisDroneVideo/VisDrone2019-VID-YOLOv7/train', new_image_size)\n",
        "  _convert_visdrone_data_to_yolov7_format('/content/VisDroneVideo/VisDrone2019-VID-val', '/content/VisDroneVideo/VisDrone2019-VID-YOLOv7/val', new_image_size)\n",
        "  _convert_visdrone_data_to_yolov7_format('/content/VisDroneVideo/VisDrone2019-VID-test-dev', '/content/VisDroneVideo/VisDrone2019-VID-YOLOv7/test-dev', new_image_size)\n",
        "  ## Create data.yaml file\n",
        "  try:\n",
        "      with open('/content/VisDroneVideo/VisDrone2019-VID-YOLOv7/data.yaml', 'w') as f:\n",
        "          f.write('train: ../VisDroneVideo/VisDrone2019-VID-YOLOv7/train/images\\n')\n",
        "          f.writelines('val: ../VisDroneVideo/VisDrone2019-VID-YOLOv7/val/images\\n')\n",
        "          f.writelines('dev: ../VisDroneVideo/VisDrone2019-VID-YOLOv7/test-dev/images\\n')\n",
        "          f.writelines('\\n')\n",
        "          f.writelines('nc: 12\\n')\n",
        "          f.writelines(\"names: ['ignore', 'pedestrian', 'people', 'bicycle', 'car', 'van', 'truck', 'tricycle', 'awning-tricycle', 'bus', 'motor', 'others']\\n\")\n",
        "  except FileNotFoundError:\n",
        "      print(\"The 'docs' directory does not exist\")\n",
        "image_size = (960, 540) # 960 px width x 540 px height\n",
        "create_visdrone_video_data_in_yolov7_format(new_image_size=image_size)"
      ]
    },
    {
      "cell_type": "code",
      "execution_count": null,
      "metadata": {
        "id": "mfbqtWxjE1in"
      },
      "outputs": [],
      "source": [
        "%%time\n",
        "%%bash\n",
        "cd /content/VisDroneVideo/VisDrone2019-VID-YOLOv7\n",
        "zip -r 'VisDrone2019-VID-YOLOv7.zip' *"
      ]
    },
    {
      "cell_type": "code",
      "execution_count": null,
      "metadata": {
        "id": "gLzL5QvTFG5F"
      },
      "outputs": [],
      "source": [
        "!cp \"/content/VisDroneVideo/VisDrone2019-VID-YOLOv7/VisDrone2019-VID-YOLOv7.zip\" \"/content/drive/MyDrive/Deepak/FourthBrain/MLOps_Course/CapstoneProject/TrainYOLOv7/data/video_data/YOLOv7\""
      ]
    },
    {
      "cell_type": "markdown",
      "metadata": {},
      "source": [
        "### Clone the GIT Repository"
      ]
    },
    {
      "cell_type": "code",
      "execution_count": null,
      "metadata": {
        "id": "xOR-NzLUFG3J"
      },
      "outputs": [],
      "source": [
        "!git clone https://github.com/dnautiyal/MLOps4-Capstone.git"
      ]
    },
    {
      "cell_type": "code",
      "execution_count": null,
      "metadata": {},
      "outputs": [],
      "source": [
        "%%time\n",
        "%%bash\n",
        "if [ -d YOLOv7_VID_Annotated_Images ]\n",
        "then\n",
        "  echo \"data already exists\"\n",
        "else \n",
        "  mkdir -p YOLOv7_VID_Annotated_Images\n",
        "fi"
      ]
    },
    {
      "cell_type": "code",
      "execution_count": null,
      "metadata": {},
      "outputs": [],
      "source": [
        "!rm -r /content/YOLOv7_VID_Annotated_Images/*"
      ]
    },
    {
      "cell_type": "code",
      "execution_count": null,
      "metadata": {
        "id": "yAVWsMoDnEa7"
      },
      "outputs": [],
      "source": [
        "!python /content/MLOps4-Capstone/src/yolo_data_utils/yolo_draw_annotation_box.py --label_folder './VisDroneVideo/VisDrone2019-VID-YOLOv7/test-dev/labels' --raw_images_folder './VisDroneVideo/VisDrone2019-VID-YOLOv7/test-dev/images' --save_images_folder './YOLOv7_VID_Annotated_Images/' "
      ]
    },
    {
      "cell_type": "code",
      "execution_count": null,
      "metadata": {
        "id": "woSGp3368CIP"
      },
      "outputs": [],
      "source": [
        "%%time\n",
        "%%bash\n",
        "zip -r 'VisDrone2019-VID-YOLOv7-Annotated_Images_Test.zip' '/content/YOLOv7_VID_Annotated_Images'"
      ]
    },
    {
      "cell_type": "code",
      "execution_count": null,
      "metadata": {
        "id": "bnSgkUOZ9jbb"
      },
      "outputs": [],
      "source": [
        "!cp \"/content/VisDrone2019-VID-YOLOv7-Annotated_Images_Test.zip\" \"/content/drive/MyDrive/Deepak/FourthBrain/MLOps_Course/CapstoneProject/TrainYOLOv7/data/video_data/YOLOv7\""
      ]
    },
    {
      "cell_type": "markdown",
      "metadata": {
        "id": "NAnxY4zDf1Le"
      },
      "source": []
    }
  ],
  "metadata": {
    "colab": {
      "collapsed_sections": [],
      "provenance": []
    },
    "gpuClass": "premium",
    "kernelspec": {
      "display_name": "Python 3.10.4 64-bit",
      "language": "python",
      "name": "python3"
    },
    "language_info": {
      "name": "python",
      "version": "3.10.4"
    },
    "vscode": {
      "interpreter": {
        "hash": "c2ed1c1e3dda2d1d09010f3df351d528d97a393444344645f0fddd23da56b409"
      }
    }
  },
  "nbformat": 4,
  "nbformat_minor": 0
}
